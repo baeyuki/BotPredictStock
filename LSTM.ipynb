{
 "cells": [
  {
   "cell_type": "code",
   "execution_count": 24,
   "metadata": {},
   "outputs": [],
   "source": [
    "import numpy as np\n",
    "import pandas as pd\n",
    "import matplotlib.pyplot as plt"
   ]
  },
  {
   "cell_type": "code",
   "execution_count": 25,
   "metadata": {},
   "outputs": [],
   "source": [
    "dataset_train = pd.read_csv('bitcoin_data.csv')\n",
    "training_set= dataset_train.iloc[:,1:7].values"
   ]
  },
  {
   "cell_type": "code",
   "execution_count": 26,
   "metadata": {},
   "outputs": [
    {
     "name": "stdout",
     "output_type": "stream",
     "text": [
      "[[6.71690000e+04 6.72147600e+04 6.66100000e+04 6.70841800e+04\n",
      "  1.23320130e+03 4.79522413e+01]\n",
      " [6.70841800e+04 6.72000000e+04 6.67778600e+04 6.71750000e+04\n",
      "  1.16537046e+03 4.71400434e+01]\n",
      " [6.71750100e+04 6.72300000e+04 6.66243900e+04 6.67394800e+04\n",
      "  1.55696122e+03 4.81526653e+01]\n",
      " ...\n",
      " [7.04750600e+04 7.05980000e+04 7.03100000e+04 7.03514600e+04\n",
      "  4.29333780e+02 5.43669111e+01]\n",
      " [7.03514600e+04 7.03753300e+04 7.01644600e+04 7.03099900e+04\n",
      "  3.56292240e+02 5.15969644e+01]\n",
      " [7.03100000e+04 7.03316200e+04 6.98220000e+04 6.98280100e+04\n",
      "  6.23601590e+02 5.06643453e+01]]\n"
     ]
    }
   ],
   "source": [
    "print(training_set)\n"
   ]
  },
  {
   "cell_type": "code",
   "execution_count": 27,
   "metadata": {},
   "outputs": [
    {
     "name": "stdout",
     "output_type": "stream",
     "text": [
      "[[0.49113465 0.45717264 0.46366194 0.48439897 0.12372098 0.45350875]\n",
      " [0.48439938 0.45595169 0.47700046 0.49161068 0.1157773  0.44028095]\n",
      " [0.49161188 0.45843329 0.4648054  0.45702749 0.16163655 0.45677294]\n",
      " ...\n",
      " [0.75365767 0.73703367 0.75767208 0.74384281 0.02957994 0.55798082]\n",
      " [0.74384301 0.71861444 0.74610715 0.74054981 0.02102604 0.51286828]\n",
      " [0.74055081 0.71499876 0.71889452 0.70227738 0.05233067 0.49767924]]\n"
     ]
    }
   ],
   "source": [
    "from sklearn.preprocessing import MinMaxScaler\n",
    "sc = MinMaxScaler(feature_range = (0, 1))\n",
    "training_set_scaled = sc.fit_transform(training_set)\n",
    "print(training_set_scaled)"
   ]
  },
  {
   "cell_type": "code",
   "execution_count": 28,
   "metadata": {},
   "outputs": [],
   "source": [
    "X_train =[]\n",
    "Y_train= []\n",
    "for i in range(90,len(training_set)):\n",
    "    X_train.append(training_set_scaled[i-90:i,0:6])\n",
    "    Y_train.append(training_set_scaled[i,0])\n",
    "X_train, Y_train =np.array(X_train), np.array(Y_train)\n",
    "\n",
    "X_train= np.reshape(X_train, (X_train.shape[0],X_train.shape[1],6))"
   ]
  },
  {
   "cell_type": "code",
   "execution_count": 29,
   "metadata": {},
   "outputs": [
    {
     "name": "stdout",
     "output_type": "stream",
     "text": [
      "Epoch:   1 Loss: 0.00001790\n",
      "Epoch:   2 Loss: 0.00000186\n",
      "Epoch:   3 Loss: 0.00001111\n",
      "Epoch:   4 Loss: 0.00000002\n",
      "Epoch:   5 Loss: 0.00000536\n",
      "Epoch:   6 Loss: 0.00001361\n",
      "Epoch:   7 Loss: 0.00000090\n",
      "Epoch:   8 Loss: 0.00000138\n",
      "Epoch:   9 Loss: 0.00010276\n",
      "Epoch:  10 Loss: 0.00002485\n",
      "Epoch:  11 Loss: 0.00023978\n",
      "Epoch:  12 Loss: 0.00019302\n",
      "Epoch:  13 Loss: 0.00025235\n",
      "Epoch:  14 Loss: 0.00001115\n",
      "Epoch:  15 Loss: 0.00012243\n",
      "Epoch:  16 Loss: 0.00012864\n",
      "Epoch:  17 Loss: 0.00002985\n",
      "Epoch:  18 Loss: 0.00488564\n",
      "Epoch:  19 Loss: 0.00004209\n",
      "Epoch:  20 Loss: 0.00002657\n",
      "Epoch:  21 Loss: 0.00000522\n",
      "Epoch:  22 Loss: 0.00254907\n",
      "Epoch:  23 Loss: 0.00014774\n",
      "Epoch:  24 Loss: 0.00001725\n",
      "Epoch:  25 Loss: 0.00013741\n",
      "Epoch:  26 Loss: 0.00012054\n",
      "Epoch:  27 Loss: 0.00006033\n",
      "Epoch:  28 Loss: 0.00009054\n",
      "Epoch:  29 Loss: 0.00039174\n",
      "Epoch:  30 Loss: 0.00724920\n",
      "Epoch:  31 Loss: 0.00017472\n",
      "Epoch:  32 Loss: 0.02191526\n",
      "Epoch:  33 Loss: 0.00002374\n",
      "Epoch:  34 Loss: 0.00026947\n",
      "Epoch:  35 Loss: 0.00391687\n",
      "Epoch:  36 Loss: 0.00005912\n",
      "Epoch:  37 Loss: 0.00014342\n",
      "Epoch:  38 Loss: 0.00008507\n",
      "Epoch:  39 Loss: 0.00017302\n",
      "Epoch:  40 Loss: 0.00000793\n",
      "Epoch:  41 Loss: 0.00016810\n",
      "Epoch:  42 Loss: 0.00000006\n",
      "Epoch:  43 Loss: 0.00000870\n",
      "Epoch:  44 Loss: 0.00014979\n",
      "Epoch:  45 Loss: 0.00000504\n",
      "Epoch:  46 Loss: 0.00000782\n",
      "Epoch:  47 Loss: 0.00015234\n",
      "Epoch:  48 Loss: 0.00000030\n",
      "Epoch:  49 Loss: 0.00232678\n",
      "Epoch:  50 Loss: 0.00073706\n",
      "Epoch:  51 Loss: 0.00111366\n",
      "Epoch:  52 Loss: 0.00000105\n",
      "Epoch:  53 Loss: 0.00625366\n",
      "Epoch:  54 Loss: 0.00000052\n",
      "Epoch:  55 Loss: 0.00093919\n",
      "Epoch:  56 Loss: 0.00008479\n",
      "Epoch:  57 Loss: 0.00122262\n",
      "Epoch:  58 Loss: 0.00003482\n",
      "Epoch:  59 Loss: 0.00022622\n",
      "Epoch:  60 Loss: 0.04179530\n",
      "Epoch:  61 Loss: 0.00041199\n",
      "Epoch:  62 Loss: 0.00000747\n",
      "Epoch:  63 Loss: 0.00000232\n",
      "Epoch:  64 Loss: 0.00000986\n",
      "Epoch:  65 Loss: 0.00870726\n",
      "Epoch:  66 Loss: 0.02008643\n",
      "Epoch:  67 Loss: 0.00085578\n",
      "Epoch:  68 Loss: 0.00040234\n",
      "Epoch:  69 Loss: 0.00099359\n",
      "Epoch:  70 Loss: 0.00002261\n",
      "Epoch:  71 Loss: 0.00000250\n",
      "Epoch:  72 Loss: 0.00010878\n",
      "Epoch:  73 Loss: 0.00000836\n",
      "Epoch:  74 Loss: 0.00010584\n",
      "Epoch:  75 Loss: 0.00002909\n",
      "Epoch:  76 Loss: 0.00000913\n",
      "Epoch:  77 Loss: 0.00031405\n",
      "Epoch:  78 Loss: 0.00040906\n",
      "Epoch:  79 Loss: 0.00089128\n",
      "Epoch:  80 Loss: 0.01186081\n",
      "Epoch:  81 Loss: 0.00462061\n",
      "Epoch:  82 Loss: 0.00002085\n",
      "Epoch:  83 Loss: 0.00045507\n",
      "Epoch:  84 Loss: 0.00046639\n",
      "Epoch:  85 Loss: 0.00000553\n",
      "Epoch:  86 Loss: 0.00000907\n",
      "Epoch:  87 Loss: 0.00000171\n",
      "Epoch:  88 Loss: 0.00017361\n",
      "Epoch:  89 Loss: 0.00009755\n",
      "Epoch:  90 Loss: 0.00028147\n",
      "Epoch:  91 Loss: 0.00000231\n",
      "Epoch:  92 Loss: 0.00000082\n",
      "Epoch:  93 Loss: 0.00000000\n",
      "Epoch:  94 Loss: 0.00023457\n",
      "Epoch:  95 Loss: 0.00002753\n",
      "Epoch:  96 Loss: 0.00001591\n",
      "Epoch:  97 Loss: 0.00002206\n",
      "Epoch:  98 Loss: 0.00006199\n",
      "Epoch:  99 Loss: 0.00000456\n",
      "Epoch: 100 Loss: 0.00000555\n"
     ]
    }
   ],
   "source": [
    "import torch \n",
    "import torch.nn as nn\n",
    "\n",
    "\n",
    "\n",
    "class LSTM(nn.Module):\n",
    "    def __init__(self, input_size =6, hidden_layer_size =50, output_size=1):\n",
    "        super().__init__()\n",
    "        self.hidden_layer_size =hidden_layer_size\n",
    "        self.lstm = nn.LSTM(input_size, hidden_layer_size)\n",
    "        self.linear = nn.Linear(hidden_layer_size, output_size)\n",
    "        self.hidden_cell = (torch.zeros(1,1,self.hidden_layer_size),torch.zeros(1,1,self.hidden_layer_size))\n",
    "\n",
    "    def forward(self,input_seq):\n",
    "        lstm_out, self.hidden_cell = self.lstm(input_seq.view(len(input_seq),1,-1),self.hidden_cell)\n",
    "        predictions = self.linear(lstm_out.view(len(input_seq),-1))\n",
    "        return predictions[-1]\n",
    "    \n",
    "model =LSTM()\n",
    "\n",
    "\n",
    "loss_function = nn.MSELoss()\n",
    "optimizer= torch.optim.Adam(model.parameters(),lr=0.001)\n",
    "\n",
    "X_train_tensor =torch.Tensor(X_train)\n",
    "Y_train_tensor =torch.Tensor(Y_train)    \n",
    "\n",
    "epochs = 100\n",
    "\n",
    "for i in range(epochs):\n",
    "    model.train()  \n",
    "    for seq, labels in zip(X_train_tensor, Y_train_tensor):\n",
    "        optimizer.zero_grad()\n",
    "        model.hidden_cell = (torch.zeros(1, 1, model.hidden_layer_size),\n",
    "                            torch.zeros(1, 1, model.hidden_layer_size))\n",
    "        y_pred = model(seq)\n",
    "        labels = labels.unsqueeze(0)  \n",
    "        single_loss = loss_function(y_pred, labels)\n",
    "        single_loss.backward()\n",
    "        optimizer.step()\n",
    "\n",
    "    print(f'Epoch: {i+1:3} Loss: {single_loss.item():10.8f}')"
   ]
  },
  {
   "cell_type": "code",
   "execution_count": 51,
   "metadata": {},
   "outputs": [
    {
     "ename": "ValueError",
     "evalue": "non-broadcastable output operand with shape (196,1) doesn't match the broadcast shape (196,6)",
     "output_type": "error",
     "traceback": [
      "\u001b[1;31m---------------------------------------------------------------------------\u001b[0m",
      "\u001b[1;31mValueError\u001b[0m                                Traceback (most recent call last)",
      "Cell \u001b[1;32mIn[51], line 34\u001b[0m\n\u001b[0;32m     29\u001b[0m predicted_stock_price \u001b[38;5;241m=\u001b[39m np\u001b[38;5;241m.\u001b[39marray(predicted_stock_price)\u001b[38;5;241m.\u001b[39mreshape(\u001b[38;5;241m-\u001b[39m\u001b[38;5;241m1\u001b[39m, \u001b[38;5;241m1\u001b[39m)\n\u001b[0;32m     33\u001b[0m \u001b[38;5;66;03m# Inverse scale the predicted values\u001b[39;00m\n\u001b[1;32m---> 34\u001b[0m predicted_stock_price \u001b[38;5;241m=\u001b[39m \u001b[43msc\u001b[49m\u001b[38;5;241;43m.\u001b[39;49m\u001b[43minverse_transform\u001b[49m\u001b[43m(\u001b[49m\u001b[43mpredicted_stock_price\u001b[49m\u001b[43m)\u001b[49m[:, [\u001b[38;5;241m0\u001b[39m]]\n\u001b[0;32m     37\u001b[0m \u001b[38;5;66;03m# # Plot results\u001b[39;00m\n\u001b[0;32m     38\u001b[0m \u001b[38;5;66;03m# plt.plot(predicted_stock_price, color='blue', label='Predicted Bitcoin Price')\u001b[39;00m\n\u001b[0;32m     39\u001b[0m \u001b[38;5;66;03m# plt.title('Bitcoin Price Prediction on Test Data')\u001b[39;00m\n\u001b[1;32m   (...)\u001b[0m\n\u001b[0;32m     42\u001b[0m \u001b[38;5;66;03m# plt.legend()\u001b[39;00m\n\u001b[0;32m     43\u001b[0m \u001b[38;5;66;03m# plt.show()\u001b[39;00m\n",
      "File \u001b[1;32m~\\AppData\\Roaming\\Python\\Python310\\site-packages\\sklearn\\preprocessing\\_data.py:548\u001b[0m, in \u001b[0;36mMinMaxScaler.inverse_transform\u001b[1;34m(self, X)\u001b[0m\n\u001b[0;32m    542\u001b[0m check_is_fitted(\u001b[38;5;28mself\u001b[39m)\n\u001b[0;32m    544\u001b[0m X \u001b[38;5;241m=\u001b[39m check_array(\n\u001b[0;32m    545\u001b[0m     X, copy\u001b[38;5;241m=\u001b[39m\u001b[38;5;28mself\u001b[39m\u001b[38;5;241m.\u001b[39mcopy, dtype\u001b[38;5;241m=\u001b[39mFLOAT_DTYPES, force_all_finite\u001b[38;5;241m=\u001b[39m\u001b[38;5;124m\"\u001b[39m\u001b[38;5;124mallow-nan\u001b[39m\u001b[38;5;124m\"\u001b[39m\n\u001b[0;32m    546\u001b[0m )\n\u001b[1;32m--> 548\u001b[0m X \u001b[38;5;241m-\u001b[39m\u001b[38;5;241m=\u001b[39m \u001b[38;5;28mself\u001b[39m\u001b[38;5;241m.\u001b[39mmin_\n\u001b[0;32m    549\u001b[0m X \u001b[38;5;241m/\u001b[39m\u001b[38;5;241m=\u001b[39m \u001b[38;5;28mself\u001b[39m\u001b[38;5;241m.\u001b[39mscale_\n\u001b[0;32m    550\u001b[0m \u001b[38;5;28;01mreturn\u001b[39;00m X\n",
      "\u001b[1;31mValueError\u001b[0m: non-broadcastable output operand with shape (196,1) doesn't match the broadcast shape (196,6)"
     ]
    }
   ],
   "source": [
    "\n",
    "dataset_test = pd.read_csv('bitcoin_data_test.csv')\n",
    "test_set = dataset_test.iloc[:, 1:7].values\n",
    "test_set_scaled = sc.transform(test_set)\n",
    "X_test = []\n",
    "for i in range(90, len(test_set)):\n",
    "    X_test.append(test_set_scaled[i-90:i, :]) \n",
    "\n",
    "X_test = np.array(X_test)\n",
    "\n",
    "\n",
    "X_test = np.reshape(X_test, (X_test.shape[0], X_test.shape[1], 6))\n",
    "\n",
    "\n",
    "predicted_stock_price = []\n",
    "model.eval()\n",
    "with torch.no_grad():\n",
    "    for seq in X_test:\n",
    "        y_pred = model(torch.Tensor(seq).unsqueeze(1))\n",
    "        predicted_stock_price.append(y_pred.item())\n",
    "predicted_stock_price = np.array(predicted_stock_price).reshape(-1, 1)\n",
    "predicted_stock_price = sc.inverse_transform(predicted_stock_price)\n",
    "plt.plot(predicted_stock_price, color='blue', label='Predicted Bitcoin Price')\n",
    "plt.title('Bitcoin Price Prediction on Test Data')\n",
    "plt.xlabel('Time')\n",
    "plt.ylabel('Bitcoin Price')\n",
    "plt.legend()\n",
    "plt.show()\n"
   ]
  },
  {
   "cell_type": "code",
   "execution_count": null,
   "metadata": {},
   "outputs": [],
   "source": []
  }
 ],
 "metadata": {
  "kernelspec": {
   "display_name": "Python 3",
   "language": "python",
   "name": "python3"
  },
  "language_info": {
   "codemirror_mode": {
    "name": "ipython",
    "version": 3
   },
   "file_extension": ".py",
   "mimetype": "text/x-python",
   "name": "python",
   "nbconvert_exporter": "python",
   "pygments_lexer": "ipython3",
   "version": "3.10.5"
  }
 },
 "nbformat": 4,
 "nbformat_minor": 2
}
